{
 "cells": [
  {
   "cell_type": "code",
   "execution_count": 17,
   "id": "90804e36-bbdc-4d10-bfe4-8eb40c98f8f3",
   "metadata": {},
   "outputs": [],
   "source": [
    "import numpy as np\n",
    "import matplotlib.pyplot as plt\n",
    "import skimage.data as data\n",
    "import math\n",
    "import random\n",
    "import colorsys"
   ]
  },
  {
   "cell_type": "markdown",
   "id": "50b12b2c-a948-4aa9-bc19-fa01782aca34",
   "metadata": {},
   "source": [
    "In this module, we will review color manipulation in both RGB and HSL formats, as well as how to manipulate them in both cases and even look at an algorithm for converting RGB to HSL."
   ]
  },
  {
   "cell_type": "code",
   "execution_count": 18,
   "id": "c6c638fb-8a71-446c-b41d-10ba339eaeb9",
   "metadata": {},
   "outputs": [
    {
     "data": {
      "image/png": "[encoded data removed]",
      "text/plain": [
       "<Figure size 1000x500 with 1 Axes>"
      ]
     },
     "metadata": {},
     "output_type": "display_data"
    }
   ],
   "source": [
    "img = np.array([[(i, 0, 0) for i in range(256)]]*10)\n",
    "plt.subplots(figsize=(10, 5))\n",
    "plt.imshow(img)\n",
    "plt.axis('off')\n",
    "plt.show()"
   ]
  },
  {
   "cell_type": "markdown",
   "id": "35b671fb-facc-494c-a769-1cf45c793527",
   "metadata": {},
   "source": [
    "The first line of the code creates an array representing an image. It generates a 10-pixel high bar with red color values ranging from 0 to 255. The structure of the array is 10 rows, where each row contains 256 pixels, and each pixel is in the form (i, 0, 0), meaning the red component (i) varies while the green and blue components remain at 0."
   ]
  },
  {
   "cell_type": "code",
   "execution_count": 19,
   "id": "aa99af09-3b6a-4663-867b-faf37c1c0e02",
   "metadata": {},
   "outputs": [
    {
     "data": {
      "image/png": "[encoded data removed]",
      "text/plain": [
       "<Figure size 1000x500 with 1 Axes>"
      ]
     },
     "metadata": {},
     "output_type": "display_data"
    }
   ],
   "source": [
    "img = np.array([[(0, i, 0) for i in range(256)]]*10)\n",
    "plt.subplots(figsize=(10, 5))\n",
    "plt.imshow(img)\n",
    "plt.axis('off')\n",
    "plt.show()"
   ]
  },
  {
   "cell_type": "markdown",
   "id": "22c19261-5f3b-49c2-ae0e-039b697f9d02",
   "metadata": {},
   "source": [
    "Now we will do the same for green and blue as well"
   ]
  },
  {
   "cell_type": "code",
   "execution_count": 20,
   "id": "e1b2e5a3-f217-418e-82f5-1a95b986aa1b",
   "metadata": {},
   "outputs": [
    {
     "data": {
      "image/png": "[encoded data removed]",
      "text/plain": [
       "<Figure size 1000x500 with 1 Axes>"
      ]
     },
     "metadata": {},
     "output_type": "display_data"
    }
   ],
   "source": [
    "img = np.array([[(0, 0, i) for i in range(256)]]*10)\n",
    "plt.subplots(figsize=(10, 5))\n",
    "plt.imshow(img)\n",
    "plt.axis('off')\n",
    "plt.show()"
   ]
  },
  {
   "cell_type": "code",
   "execution_count": 21,
   "id": "55b2f831-55b3-4783-84ea-076368367bbf",
   "metadata": {},
   "outputs": [
    {
     "data": {
      "image/png": "[encoded data removed]",
      "text/plain": [
       "<Figure size 640x480 with 1 Axes>"
      ]
     },
     "metadata": {},
     "output_type": "display_data"
    }
   ],
   "source": [
    "img = np.array([[(i, j, 0) for i in range(256)] for j in range(256)])\n",
    "plt.imshow(img)\n",
    "plt.axis('off')\n",
    "plt.show()"
   ]
  },
  {
   "cell_type": "markdown",
   "id": "bfdab58b-b807-4ce6-9f55-af5248a56d34",
   "metadata": {},
   "source": [
    "In this code, we do something similar but with a slight difference. Now, we have two loops, allowing us to draw a square that represents the full range of color values between red and green. The i variable controls the red component, while j controls the green component, creating a gradient transition between these two colors. The blue component remains at 0, so the image shows a blend of red and green across the square."
   ]
  },
  {
   "cell_type": "code",
   "execution_count": 22,
   "id": "fa15c6ca-05db-4735-98f1-235453877a69",
   "metadata": {},
   "outputs": [
    {
     "data": {
      "image/png": "[encoded data removed]",
      "text/plain": [
       "<Figure size 640x480 with 1 Axes>"
      ]
     },
     "metadata": {},
     "output_type": "display_data"
    }
   ],
   "source": [
    "im = np.array([[(i, 0, j) for i in range(256)] for j in range(256)])\n",
    "plt.imshow(im)\n",
    "plt.axis('off')\n",
    "plt.show()"
   ]
  },
  {
   "cell_type": "markdown",
   "id": "9b491a3f-0924-40c7-99a1-de85700d77ad",
   "metadata": {},
   "source": [
    "Now we proceed to do the same thing, but this time with red and blue."
   ]
  },
  {
   "cell_type": "code",
   "execution_count": 23,
   "id": "4124f872-fa5e-4470-b766-416f90456c6c",
   "metadata": {},
   "outputs": [
    {
     "data": {
      "text/plain": [
       "(0.0, 0.5, 1.0)"
      ]
     },
     "execution_count": 23,
     "metadata": {},
     "output_type": "execute_result"
    }
   ],
   "source": [
    "red = (1, 0, 0)\n",
    "colorsys.rgb_to_hls(*rojo)"
   ]
  },
  {
   "cell_type": "markdown",
   "id": "0f75ef91-9435-4658-8ded-6bdeed00db2c",
   "metadata": {},
   "source": [
    "Now these are the values we got when we convert RGB to HSL using a function from 'colorsys'. Now we are going to try to get the same results, but using our own function. For this function to work, your RGB values must be in a scale from 1 to 0 instead of 0 - 255"
   ]
  },
  {
   "cell_type": "code",
   "execution_count": 31,
   "id": "83399d9f-7420-48e7-9e62-c280723efe5c",
   "metadata": {},
   "outputs": [],
   "source": [
    "def rgb2hls(r, g, b):\n",
    "    theta = math.acos((0.5*(r-g + r-b))/(((r-g)**2+(r-b)*(g-b))**0.5))\n",
    "    h = theta if b <= g else (360 - theta)\n",
    "    h /= 360\n",
    "    s = 1 - (3 / (r+g+b))*min(r, g, b)\n",
    "    l = (1/2)*(max(r, g, b) + min(r, g, b))\n",
    "    return h, l, s\n"
   ]
  },
  {
   "cell_type": "code",
   "execution_count": 32,
   "id": "82310688-6c90-45f9-8d6b-5c415c5c448a",
   "metadata": {},
   "outputs": [
    {
     "data": {
      "text/plain": [
       "(0.0, 0.5, 1.0)"
      ]
     },
     "execution_count": 32,
     "metadata": {},
     "output_type": "execute_result"
    }
   ],
   "source": [
    "rgb2hls(*red)"
   ]
  },
  {
   "cell_type": "markdown",
   "id": "c0151a9a-86f6-4292-999b-4ba7d77e9da9",
   "metadata": {},
   "source": [
    "As we can see friends, the values we obtained are the same, which means our function works perfectly. For this function, we used a pre existing formula to convert RGB colors to HLS, which you can easily find by searching online"
   ]
  }
 ],
 "metadata": {
  "kernelspec": {
   "display_name": "Python 3 (ipykernel)",
   "language": "python",
   "name": "python3"
  },
  "language_info": {
   "codemirror_mode": {
    "name": "ipython",
    "version": 3
   },
   "file_extension": ".py",
   "mimetype": "text/x-python",
   "name": "python",
   "nbconvert_exporter": "python",
   "pygments_lexer": "ipython3",
   "version": "3.9.19"
  }
 },
 "nbformat": 4,
 "nbformat_minor": 5
}
